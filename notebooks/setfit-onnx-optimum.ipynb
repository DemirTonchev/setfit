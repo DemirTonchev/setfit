{
  "cells": [
    {
      "cell_type": "markdown",
      "id": "76571396-8f54-40ed-9e81-6c7531e6eaee",
      "metadata": {
        "id": "76571396-8f54-40ed-9e81-6c7531e6eaee"
      },
      "source": [
        "# Efficiently run SetFit Models with Optimum"
      ]
    },
    {
      "cell_type": "markdown",
      "id": "24fd5853-812f-45a4-8a7b-0a0c9a60d0a2",
      "metadata": {
        "id": "24fd5853-812f-45a4-8a7b-0a0c9a60d0a2"
      },
      "source": [
        "[SetFit](https://github.com/huggingface/setfit) is a technique for few-shot text classification that uses contrastive learning to fine-tune Sentence Transformers in domains where little to no labeled data is available. It achieves comparable performance to existing state-of-the-art methods based on large language models, yet requires no prompts and is efficient to train (typically a few seconds on a GPU to minutes on a CPU).\n",
        "\n",
        "In this notebook you'll learn how to further compress SetFit models for faster inference & deployment on GPU using Optimum Onnx."
      ]
    },
    {
      "cell_type": "markdown",
      "id": "a3b30b35-7875-498f-a771-068132f4084f",
      "metadata": {
        "id": "a3b30b35-7875-498f-a771-068132f4084f",
        "tags": []
      },
      "source": [
        "## 1. Setup development environment"
      ]
    },
    {
      "cell_type": "markdown",
      "id": "dc40c7af-1f4f-4324-847c-dc9b7797b60c",
      "metadata": {
        "id": "dc40c7af-1f4f-4324-847c-dc9b7797b60c"
      },
      "source": [
        "Our first step is to install SetFit. Running the following cell will install all the required packages for us."
      ]
    },
    {
      "cell_type": "code",
      "execution_count": 156,
      "id": "Cu9et-iSaU0i",
      "metadata": {
        "id": "Cu9et-iSaU0i"
      },
      "outputs": [],
      "source": [
        "!pip install setfit accelerate -qqq"
      ]
    },
    {
      "cell_type": "markdown",
      "id": "ffbea843-2e86-4f14-961c-b8895f9de77d",
      "metadata": {
        "id": "ffbea843-2e86-4f14-961c-b8895f9de77d"
      },
      "source": [
        "## 2. Create a performance benchmark\n",
        "\n",
        "Before we train and optimize any models, let's define a performance benchmark that we can use to compare our models. In general, deploying ML models in production environments involves a tradeoff among several constraints:\n",
        "\n",
        "* Model performance: how well does the model perform on a well crafted test set?\n",
        "* Latency: how fast can our model deliver predictions?\n",
        "* Memory: on what cloud instance or device can we store and load our model?\n",
        "\n",
        "The class below defines a simple benchmark that measure each quantity for a given SetFit model and test dataset:"
      ]
    },
    {
      "cell_type": "code",
      "execution_count": 157,
      "id": "55756fec-fc22-4590-84d7-2f3df37b9256",
      "metadata": {
        "id": "55756fec-fc22-4590-84d7-2f3df37b9256"
      },
      "outputs": [],
      "source": [
        "from pathlib import Path\n",
        "from time import perf_counter\n",
        "\n",
        "import evaluate\n",
        "import numpy as np\n",
        "import torch\n",
        "from tqdm.auto import tqdm\n",
        "\n",
        "metric = evaluate.load(\"accuracy\")\n",
        "\n",
        "\n",
        "class PerformanceBenchmark:\n",
        "    def __init__(self, model, dataset, optim_type):\n",
        "        self.model = model\n",
        "        self.dataset = dataset\n",
        "        self.optim_type = optim_type\n",
        "\n",
        "    def compute_accuracy(self):\n",
        "        preds = self.model.predict(self.dataset[\"text\"])\n",
        "        labels = self.dataset[\"label\"]\n",
        "        accuracy = metric.compute(predictions=preds, references=labels)\n",
        "        print(f\"Accuracy on test set - {accuracy['accuracy']:.3f}\")\n",
        "        return accuracy\n",
        "\n",
        "    def compute_size(self):\n",
        "        state_dict = self.model.model_body.state_dict()\n",
        "        tmp_path = Path(\"model.pt\")\n",
        "        torch.save(state_dict, tmp_path)\n",
        "        # Calculate size in megabytes\n",
        "        size_mb = Path(tmp_path).stat().st_size / (1024 * 1024)\n",
        "        # Delete temporary file\n",
        "        tmp_path.unlink()\n",
        "        print(f\"Model size (MB) - {size_mb:.2f}\")\n",
        "        return {\"size_mb\": size_mb}\n",
        "\n",
        "    def time_model(self, query=\"that loves its characters and communicates something rather beautiful about human nature\"):\n",
        "        latencies = []\n",
        "        # Warmup\n",
        "        for _ in range(10):\n",
        "            _ = self.model([query])\n",
        "        # Timed run\n",
        "        for _ in range(100):\n",
        "            start_time = perf_counter()\n",
        "            _ = self.model([query])\n",
        "            latency = perf_counter() - start_time\n",
        "            latencies.append(latency)\n",
        "        # Compute run statistics\n",
        "        time_avg_ms = 1000 * np.mean(latencies)\n",
        "        time_std_ms = 1000 * np.std(latencies)\n",
        "        print(rf\"Average latency (ms) - {time_avg_ms:.2f} +\\- {time_std_ms:.2f}\")\n",
        "        return {\"time_avg_ms\": time_avg_ms, \"time_std_ms\": time_std_ms}\n",
        "\n",
        "    def run_benchmark(self):\n",
        "        metrics = {}\n",
        "        metrics[self.optim_type] = self.compute_size()\n",
        "        metrics[self.optim_type].update(self.compute_accuracy())\n",
        "        metrics[self.optim_type].update(self.time_model())\n",
        "        return metrics"
      ]
    },
    {
      "cell_type": "markdown",
      "metadata": {
        "id": "4QkMcqR0qcBZ"
      },
      "source": [
        "Beyond that, we'll create a simple function to plot the performances reported by this benchmark."
      ],
      "id": "4QkMcqR0qcBZ"
    },
    {
      "cell_type": "code",
      "execution_count": 194,
      "metadata": {
        "id": "PurksLh3qcBa"
      },
      "outputs": [],
      "source": [
        "import matplotlib.pyplot as plt\n",
        "import pandas as pd\n",
        "\n",
        "\n",
        "def plot_metrics(perf_metrics):\n",
        "    df = pd.DataFrame.from_dict(perf_metrics, orient=\"index\")\n",
        "\n",
        "    for idx in df.index:\n",
        "        df_opt = df.loc[idx]\n",
        "        plt.errorbar(\n",
        "            df_opt[\"time_avg_ms\"],\n",
        "            df_opt[\"accuracy\"] * 100,\n",
        "            xerr=df_opt[\"time_std_ms\"],\n",
        "            fmt=\"o\",\n",
        "            alpha=0.5,\n",
        "            ms=df_opt[\"size_mb\"] / 15,\n",
        "            label=idx,\n",
        "            capsize=5,\n",
        "            capthick=1,\n",
        "        )\n",
        "\n",
        "    legend = plt.legend(loc=\"lower right\")\n",
        "\n",
        "    plt.ylim(63, 95)\n",
        "    # Use the slowest model to define the x-axis range\n",
        "    xlim = max([metrics[\"time_avg_ms\"] for metrics in perf_metrics.values()]) * 1.2\n",
        "    plt.xlim(0, xlim)\n",
        "    plt.ylabel(\"Accuracy (%)\")\n",
        "    plt.xlabel(\"Average latency with batch_size=1 (ms)\")\n",
        "    plt.show()\n"
      ],
      "id": "PurksLh3qcBa"
    },
    {
      "cell_type": "markdown",
      "id": "1402c1ba-aa7f-4b0b-9db5-1e6f0d301e70",
      "metadata": {
        "id": "1402c1ba-aa7f-4b0b-9db5-1e6f0d301e70"
      },
      "source": [
        "## 3. Train/evaluate bge-small SetFit models"
      ]
    },
    {
      "cell_type": "markdown",
      "id": "5a850dfb-fffb-4e03-b468-b1f78d434705",
      "metadata": {
        "id": "5a850dfb-fffb-4e03-b468-b1f78d434705"
      },
      "source": [
        "Before we optimize any models, let's train a few baselines as a point of reference. We'll use the [sst-2](https://huggingface.co/datasets/SetFit/sst2) dataset, which is a collection of sentiment text catagorized into 2 classes: positive, negative\n",
        "\n",
        "Let's start by loading the dataset from the Hub:"
      ]
    },
    {
      "cell_type": "code",
      "execution_count": 159,
      "id": "7850d846-07c8-48eb-9aa6-2ce1af276ff4",
      "metadata": {
        "colab": {
          "base_uri": "https://localhost:8080/"
        },
        "id": "7850d846-07c8-48eb-9aa6-2ce1af276ff4",
        "outputId": "056eff7c-293f-4fd8-e76e-29d261abff1b"
      },
      "outputs": [
        {
          "output_type": "stream",
          "name": "stderr",
          "text": [
            "/usr/local/lib/python3.10/dist-packages/huggingface_hub/repocard.py:105: UserWarning: Repo card metadata block was not found. Setting CardData to empty.\n",
            "  warnings.warn(\"Repo card metadata block was not found. Setting CardData to empty.\")\n"
          ]
        },
        {
          "output_type": "execute_result",
          "data": {
            "text/plain": [
              "DatasetDict({\n",
              "    train: Dataset({\n",
              "        features: ['text', 'label', 'label_text'],\n",
              "        num_rows: 6920\n",
              "    })\n",
              "    validation: Dataset({\n",
              "        features: ['text', 'label', 'label_text'],\n",
              "        num_rows: 872\n",
              "    })\n",
              "    test: Dataset({\n",
              "        features: ['text', 'label', 'label_text'],\n",
              "        num_rows: 1821\n",
              "    })\n",
              "})"
            ]
          },
          "metadata": {},
          "execution_count": 159
        }
      ],
      "source": [
        "from datasets import load_dataset\n",
        "\n",
        "dataset = load_dataset(\"SetFit/sst2\")\n",
        "dataset"
      ]
    },
    {
      "cell_type": "markdown",
      "id": "a714cf95-a831-41b7-8f04-ffe0350d4659",
      "metadata": {
        "id": "a714cf95-a831-41b7-8f04-ffe0350d4659"
      },
      "source": [
        "We train a SetFit model with the full dataset. Recall that SetFit excels with few-shot scenario, but this time we are interested to achieve maximum accuracy."
      ]
    },
    {
      "cell_type": "code",
      "execution_count": 160,
      "id": "a628cbfa-cfcd-4e4f-ab48-b454e5695ac8",
      "metadata": {
        "id": "a628cbfa-cfcd-4e4f-ab48-b454e5695ac8"
      },
      "outputs": [],
      "source": [
        "train_dataset = dataset[\"train\"]\n",
        "test_dataset = dataset[\"validation\"]"
      ]
    },
    {
      "cell_type": "markdown",
      "id": "P8yY_SBbWlv9",
      "metadata": {
        "id": "P8yY_SBbWlv9"
      },
      "source": [
        "Use the following line code to download the [already finetuned model](https://huggingface.co/moshew/bge-small-en-v1.5_setfit-sst2-english) and evaluate. Alternatively, uncomment the code below it to fine-tune the base model from scratch.\n",
        "\n",
        "Note that we perform the evaluations on Google Colab using the free T4 GPU."
      ]
    },
    {
      "cell_type": "code",
      "execution_count": 197,
      "id": "u-w99Y2qW4lU",
      "metadata": {
        "colab": {
          "base_uri": "https://localhost:8080/"
        },
        "id": "u-w99Y2qW4lU",
        "outputId": "57f0b8f7-6dad-4e90-c779-658a7de6e960"
      },
      "outputs": [
        {
          "output_type": "stream",
          "name": "stdout",
          "text": [
            "Model size (MB) - 127.33\n",
            "Accuracy on test set - 0.906\n",
            "Average latency (ms) - 13.43 +\\- 1.62\n"
          ]
        }
      ],
      "source": [
        "# Evaluate the uploaded model!\n",
        "from setfit import SetFitModel\n",
        "\n",
        "small_model = SetFitModel.from_pretrained(\"moshew/bge-small-en-v1.5_setfit-sst2-english\")\n",
        "pb = PerformanceBenchmark(model=small_model, dataset=test_dataset, optim_type=\"bge-small (PyTorch)\")\n",
        "perf_metrics = pb.run_benchmark()"
      ]
    },
    {
      "cell_type": "code",
      "execution_count": 162,
      "id": "52b3bc70-dc3e-4c23-a152-7a149b8b46fe",
      "metadata": {
        "id": "52b3bc70-dc3e-4c23-a152-7a149b8b46fe"
      },
      "outputs": [],
      "source": [
        "# # Fine-tune the base model and Evaluate!\n",
        "# from setfit import SetFitModel, Trainer, TrainingArguments\n",
        "\n",
        "# # Load pretrained model from the Hub\n",
        "# small_model = SetFitModel.from_pretrained(\n",
        "#    \"BAAI/bge-small-en-v1.5\"\n",
        "# )\n",
        "# args = TrainingArguments(num_iterations=20)\n",
        "\n",
        "# # Create trainer\n",
        "# small_trainer = Trainer(\n",
        "#    model=small_model, args=args, train_dataset=train_dataset\n",
        "# )\n",
        "# # Train!\n",
        "# small_trainer.train()\n",
        "\n",
        "# # Evaluate!\n",
        "# pb = PerformanceBenchmark(\n",
        "#    model=small_trainer.model, dataset=test_dataset, optim_type=\"bge-small (base)\"\n",
        "# )\n",
        "# perf_metrics = pb.run_benchmark()"
      ]
    },
    {
      "cell_type": "markdown",
      "id": "82bf3e15-2804-4669-97d6-87e1bbef7223",
      "metadata": {
        "id": "82bf3e15-2804-4669-97d6-87e1bbef7223"
      },
      "source": [
        "Let's plot the results to visualise the performance:"
      ]
    },
    {
      "cell_type": "code",
      "execution_count": 198,
      "id": "89d0a144-d463-4a61-b78a-861d0d8cd061",
      "metadata": {
        "colab": {
          "base_uri": "https://localhost:8080/",
          "height": 455
        },
        "id": "89d0a144-d463-4a61-b78a-861d0d8cd061",
        "outputId": "9ba81223-b2d2-4b10-f78d-2691846782a2"
      },
      "outputs": [
        {
          "output_type": "display_data",
          "data": {
            "text/plain": [
              "<Figure size 640x480 with 1 Axes>"
            ],
            "image/png": "[encoded data removed]"
          },
          "metadata": {}
        }
      ],
      "source": [
        "plot_metrics(perf_metrics)"
      ]
    },
    {
      "cell_type": "markdown",
      "id": "AiPUhOCNWRny",
      "metadata": {
        "id": "AiPUhOCNWRny"
      },
      "source": [
        "## 4. Compressing with Optimum ONNX and CUDAExecutionProvider\n",
        "\n",
        "We'll be using Optimum's ONNX Runtime support with `CUDAExecutionProvider` [because it's fast while also supporting dynamic shapes](https://github.com/huggingface/optimum-benchmark/tree/main/examples/fast-mteb#notes)."
      ]
    },
    {
      "cell_type": "code",
      "execution_count": 164,
      "id": "NEnwnsEQWRn8",
      "metadata": {
        "cellView": "form",
        "id": "NEnwnsEQWRn8"
      },
      "outputs": [],
      "source": [
        "!pip install optimum[onnxruntime-gpu] -qqq"
      ]
    },
    {
      "cell_type": "markdown",
      "metadata": {
        "id": "HjeZkCtSqcBe"
      },
      "source": [
        "[`optimum-cli`](https://huggingface.co/docs/optimum/onnxruntime/usage_guides/optimization#optimizing-a-model-during-the-onnx-export) makes it extremely easy to export a model to ONNX and apply SOTA graph optimizations / kernel fusions."
      ],
      "id": "HjeZkCtSqcBe"
    },
    {
      "cell_type": "code",
      "execution_count": 165,
      "id": "hPqEcDi8WRn8",
      "metadata": {
        "id": "hPqEcDi8WRn8",
        "colab": {
          "base_uri": "https://localhost:8080/"
        },
        "outputId": "0e1202d8-aa84-422c-f10f-6bb0b43d1ef8"
      },
      "outputs": [
        {
          "output_type": "stream",
          "name": "stdout",
          "text": [
            "2023-11-27 12:23:25.781950: E tensorflow/compiler/xla/stream_executor/cuda/cuda_dnn.cc:9342] Unable to register cuDNN factory: Attempting to register factory for plugin cuDNN when one has already been registered\n",
            "2023-11-27 12:23:25.782000: E tensorflow/compiler/xla/stream_executor/cuda/cuda_fft.cc:609] Unable to register cuFFT factory: Attempting to register factory for plugin cuFFT when one has already been registered\n",
            "2023-11-27 12:23:25.782035: E tensorflow/compiler/xla/stream_executor/cuda/cuda_blas.cc:1518] Unable to register cuBLAS factory: Attempting to register factory for plugin cuBLAS when one has already been registered\n",
            "2023-11-27 12:23:26.931536: W tensorflow/compiler/tf2tensorrt/utils/py_utils.cc:38] TF-TRT Warning: Could not find TensorRT\n",
            "Framework not specified. Using pt to export to ONNX.\n",
            "Using the export variant default. Available variants are:\n",
            "    - default: The default ONNX variant.\n",
            "Using framework PyTorch: 2.1.0+cu118\n",
            "Overriding 1 configuration item(s)\n",
            "\t- use_cache -> False\n",
            "2023-11-27 12:23:34.728172634 [W:onnxruntime:, session_state.cc:1162 VerifyEachNodeIsAssignedToAnEp] Some nodes were not assigned to the preferred execution providers which may or may not have an negative impact on performance. e.g. ORT explicitly assigns shape related ops to CPU to improve perf.\n",
            "2023-11-27 12:23:34.728200557 [W:onnxruntime:, session_state.cc:1164 VerifyEachNodeIsAssignedToAnEp] Rerunning with verbose output on a non-minimal build will show node assignments.\n",
            "Overridding for_gpu=False to for_gpu=True as half precision is available only on GPU.\n",
            "/usr/local/lib/python3.10/dist-packages/optimum/onnxruntime/configuration.py:770: FutureWarning: disable_embed_layer_norm will be deprecated soon, use disable_embed_layer_norm_fusion instead, disable_embed_layer_norm_fusion is set to True.\n",
            "  warnings.warn(\n",
            "Optimizing model...\n",
            "2023-11-27 12:23:36.378780811 [W:onnxruntime:, session_state.cc:1162 VerifyEachNodeIsAssignedToAnEp] Some nodes were not assigned to the preferred execution providers which may or may not have an negative impact on performance. e.g. ORT explicitly assigns shape related ops to CPU to improve perf.\n",
            "2023-11-27 12:23:36.378811421 [W:onnxruntime:, session_state.cc:1164 VerifyEachNodeIsAssignedToAnEp] Rerunning with verbose output on a non-minimal build will show node assignments.\n",
            "symbolic shape inference disabled or failed.\n",
            "symbolic shape inference disabled or failed.\n",
            "Configuration saved in bge_auto_opt_O4/ort_config.json\n",
            "Optimized model saved at: bge_auto_opt_O4 (external data format: False; saved all tensor to one file: True)\n",
            "Post-processing the exported models...\n",
            "Deduplicating shared (tied) weights...\n",
            "Validating models in subprocesses...\n",
            "2023-11-27 12:23:48.005601: E tensorflow/compiler/xla/stream_executor/cuda/cuda_dnn.cc:9342] Unable to register cuDNN factory: Attempting to register factory for plugin cuDNN when one has already been registered\n",
            "2023-11-27 12:23:48.005666: E tensorflow/compiler/xla/stream_executor/cuda/cuda_fft.cc:609] Unable to register cuFFT factory: Attempting to register factory for plugin cuFFT when one has already been registered\n",
            "2023-11-27 12:23:48.005707: E tensorflow/compiler/xla/stream_executor/cuda/cuda_blas.cc:1518] Unable to register cuBLAS factory: Attempting to register factory for plugin cuBLAS when one has already been registered\n",
            "2023-11-27 12:23:50.980859: W tensorflow/compiler/tf2tensorrt/utils/py_utils.cc:38] TF-TRT Warning: Could not find TensorRT\n",
            "Validating ONNX model bge_auto_opt_O4/model.onnx...\n",
            "2023-11-27 12:23:54.208836299 [W:onnxruntime:, session_state.cc:1162 VerifyEachNodeIsAssignedToAnEp] Some nodes were not assigned to the preferred execution providers which may or may not have an negative impact on performance. e.g. ORT explicitly assigns shape related ops to CPU to improve perf.\n",
            "2023-11-27 12:23:54.208860681 [W:onnxruntime:, session_state.cc:1164 VerifyEachNodeIsAssignedToAnEp] Rerunning with verbose output on a non-minimal build will show node assignments.\n",
            "\t-[✓] ONNX model output names match reference model (last_hidden_state)\n",
            "\t- Validating ONNX Model output \"last_hidden_state\":\n",
            "\t\t-[✓] (2, 16, 384) matches (2, 16, 384)\n",
            "\t\t-[x] values not close enough, max diff: 2.1155929565429688 (atol: 0.0001)\n",
            "The ONNX export succeeded with the warning: The maximum absolute difference between the output of the reference model and the ONNX exported model is not within the set tolerance 0.0001:\n",
            "- last_hidden_state: max diff = 2.1155929565429688.\n",
            " The exported model was saved at: bge_auto_opt_O4\n"
          ]
        }
      ],
      "source": [
        "!optimum-cli export onnx \\\n",
        "  --model moshew/bge-small-en-v1.5_setfit-sst2-english \\\n",
        "  --task feature-extraction \\\n",
        "  --optimize O4 \\\n",
        "  --device cuda \\\n",
        "  bge_auto_opt_O4"
      ]
    },
    {
      "cell_type": "markdown",
      "metadata": {
        "id": "IYkxQOTRqcBe"
      },
      "source": [
        "We may see some warnings, but these are not ones to be concerned about. We'll see later that it does not affect the model performance.\n",
        "\n",
        "First of all, we'll create a subclass of our performance benchmark to also allow benchmarking ONNX models."
      ],
      "id": "IYkxQOTRqcBe"
    },
    {
      "cell_type": "code",
      "execution_count": 166,
      "id": "8hvfl3xvlnEs",
      "metadata": {
        "id": "8hvfl3xvlnEs"
      },
      "outputs": [],
      "source": [
        "class OnnxPerformanceBenchmark(PerformanceBenchmark):\n",
        "    def __init__(self, *args, model_path, **kwargs):\n",
        "        super().__init__(*args, **kwargs)\n",
        "        self.model_path = model_path\n",
        "\n",
        "    def compute_size(self):\n",
        "        size_mb = Path(self.model_path).stat().st_size / (1024 * 1024)\n",
        "        print(f\"Model size (MB) - {size_mb:.2f}\")\n",
        "        return {\"size_mb\": size_mb}"
      ]
    },
    {
      "cell_type": "markdown",
      "metadata": {
        "id": "4ht5U1qUqcBe"
      },
      "source": [
        "Then, we can load the converted SentenceTransformer model with the `\"CUDAExecutionProvider\"` provider. Feel free to also experiment with other providers, such as `\"TensorrtExecutionProvider\"` and `\"CPUExecutionProvider\"`. The former may be even faster than `\"CUDAExecutionProvider\"`, but requires more installation."
      ],
      "id": "4ht5U1qUqcBe"
    },
    {
      "cell_type": "code",
      "execution_count": 169,
      "id": "IpoDwkPiWRn8",
      "metadata": {
        "id": "IpoDwkPiWRn8"
      },
      "outputs": [],
      "source": [
        "import torch\n",
        "from transformers import AutoTokenizer\n",
        "from optimum.onnxruntime import ORTModelForFeatureExtraction\n",
        "\n",
        "# Load model from HuggingFace Hub\n",
        "tokenizer = AutoTokenizer.from_pretrained('bge_auto_opt_O4', model_max_length=512)\n",
        "ort_model = ORTModelForFeatureExtraction.from_pretrained('bge_auto_opt_O4', provider=\"CUDAExecutionProvider\")"
      ]
    },
    {
      "cell_type": "markdown",
      "metadata": {
        "id": "Odn2lSPJqcBf"
      },
      "source": [
        "And let's make a class that uses the tokenizer, ONNX Runtime (ORT) model and a model head."
      ],
      "id": "Odn2lSPJqcBf"
    },
    {
      "cell_type": "code",
      "execution_count": 170,
      "id": "enaQpBF9WRn9",
      "metadata": {
        "id": "enaQpBF9WRn9"
      },
      "outputs": [],
      "source": [
        "from setfit.exporters.utils import mean_pooling\n",
        "\n",
        "\n",
        "class OnnxSetFitModel:\n",
        "    def __init__(self, ort_model, tokenizer, model_head):\n",
        "        self.ort_model = ort_model\n",
        "        self.tokenizer = tokenizer\n",
        "        self.model_head = model_head\n",
        "\n",
        "    def predict(self, inputs):\n",
        "        encoded_inputs = self.tokenizer(\n",
        "            inputs, padding=True, truncation=True, return_tensors=\"pt\"\n",
        "        ).to(self.ort_model.device)\n",
        "\n",
        "        outputs = self.ort_model(**encoded_inputs)\n",
        "        embeddings = mean_pooling(\n",
        "            outputs[\"last_hidden_state\"], encoded_inputs[\"attention_mask\"]\n",
        "        )\n",
        "        return self.model_head.predict(embeddings.cpu())\n",
        "\n",
        "    def __call__(self, inputs):\n",
        "        return self.predict(inputs)"
      ]
    },
    {
      "cell_type": "markdown",
      "metadata": {
        "id": "N1TDdcOkqcBh"
      },
      "source": [
        "We can initialize this model like so:"
      ],
      "id": "N1TDdcOkqcBh"
    },
    {
      "cell_type": "code",
      "execution_count": 171,
      "id": "qRviEk2WWRn9",
      "metadata": {
        "colab": {
          "base_uri": "https://localhost:8080/"
        },
        "id": "qRviEk2WWRn9",
        "outputId": "33f010a8-376e-4f0c-b21b-97fe25bf1a81"
      },
      "outputs": [
        {
          "output_type": "execute_result",
          "data": {
            "text/plain": [
              "array([0, 0])"
            ]
          },
          "metadata": {},
          "execution_count": 171
        }
      ],
      "source": [
        "model = SetFitModel.from_pretrained(\"moshew/bge-small-en-v1.5_setfit-sst2-english\")\n",
        "onnx_setfit_model = OnnxSetFitModel(ort_model, tokenizer, model.model_head)\n",
        "\n",
        "# Perform inference\n",
        "onnx_setfit_model(test_dataset[\"text\"][:2])"
      ]
    },
    {
      "cell_type": "markdown",
      "metadata": {
        "id": "3DPl1ZpYqcBh"
      },
      "source": [
        "Time to benchmark this ONNX model."
      ],
      "id": "3DPl1ZpYqcBh"
    },
    {
      "cell_type": "code",
      "execution_count": 201,
      "id": "O8jpZ3gdWRn9",
      "metadata": {
        "id": "O8jpZ3gdWRn9",
        "colab": {
          "base_uri": "https://localhost:8080/"
        },
        "outputId": "8d31c81a-67e4-4074-cf35-9f56d6dcdd20"
      },
      "outputs": [
        {
          "output_type": "stream",
          "name": "stdout",
          "text": [
            "Model size (MB) - 63.39\n",
            "Accuracy on test set - 0.906\n",
            "Average latency (ms) - 2.19 +\\- 0.50\n"
          ]
        }
      ],
      "source": [
        "pb = OnnxPerformanceBenchmark(\n",
        "    onnx_setfit_model,\n",
        "    test_dataset,\n",
        "    \"bge-small (optimum ONNX)\",\n",
        "    model_path=\"bge_auto_opt_O4/model.onnx\",\n",
        ")\n",
        "perf_metrics.update(pb.run_benchmark())"
      ]
    },
    {
      "cell_type": "code",
      "execution_count": 202,
      "id": "tpjtxQQlZQPa",
      "metadata": {
        "colab": {
          "base_uri": "https://localhost:8080/",
          "height": 455
        },
        "id": "tpjtxQQlZQPa",
        "outputId": "01efad97-4780-4c47-f10f-3afa7e819d15"
      },
      "outputs": [
        {
          "output_type": "display_data",
          "data": {
            "text/plain": [
              "<Figure size 640x480 with 1 Axes>"
            ],
            "image/png": "[encoded data removed]"
          },
          "metadata": {}
        }
      ],
      "source": [
        "plot_metrics(perf_metrics)"
      ]
    },
    {
      "cell_type": "markdown",
      "source": [
        "By applying ONNX, we were able to improve the latency from 13.43ms per sample to 2.19ms per sample, for a speedup of 6.13x!\n",
        "\n",
        "For further improvements, we recommend increasing the inference batch size, as this may also heavily improve the throughput. For example, setting the batch size to 128 reduces the latency further down to 0.3ms, and down to 0.2ms at a batch size of 2048."
      ],
      "metadata": {
        "id": "gvdggvIbvowO"
      },
      "id": "gvdggvIbvowO"
    },
    {
      "cell_type": "code",
      "source": [],
      "metadata": {
        "id": "h5ExEou96k3Z"
      },
      "id": "h5ExEou96k3Z",
      "execution_count": null,
      "outputs": []
    }
  ],
  "metadata": {
    "accelerator": "GPU",
    "colab": {
      "gpuType": "T4",
      "provenance": []
    },
    "kernelspec": {
      "display_name": "Python 3",
      "name": "python3"
    },
    "language_info": {
      "codemirror_mode": {
        "name": "ipython",
        "version": 3
      },
      "file_extension": ".py",
      "mimetype": "text/x-python",
      "name": "python",
      "nbconvert_exporter": "python",
      "pygments_lexer": "ipython3",
      "version": "3.9.16"
    },
    "vscode": {
      "interpreter": {
        "hash": "31f2aee4e71d21fbe5cf8b01ff0e069b9275f58929596ceb00d14d90e3e16cd6"
      }
    }
  },
  "nbformat": 4,
  "nbformat_minor": 5
}